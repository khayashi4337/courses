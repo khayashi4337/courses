{
 "cells": [
  {
   "cell_type": "markdown",
   "metadata": {},
   "source": [
    "# チュートリアルの使い方\n",
    "\n",
    "このチュートリアルを開始する前に、このノートブックを最初に実行する必要があります。これにより、ワークショップ内のすべてのノートブックで必要な要件と環境変数が保存されます。"
   ]
  },
  {
   "cell_type": "markdown",
   "metadata": {},
   "source": [
    "## 始め方\n",
    "\n",
    "1. このリポジトリをローカルマシンにクローンしてください。\n",
    "\n",
    "2. 以下のコマンドを実行して、必要な依存関係をインストールしてください：\n",
    " "
   ]
  },
  {
   "cell_type": "code",
   "execution_count": 2,
   "metadata": {},
   "outputs": [
    {
     "name": "stdout",
     "output_type": "stream",
     "text": [
      "Note: you may need to restart the kernel to use updated packages.\n",
      "Note: you may need to restart the kernel to use updated packages.\n"
     ]
    }
   ],
   "source": [
    "%pip install -qU pip\n",
    "%pip install -qr ../requirements.txt"
   ]
  },
  {
   "cell_type": "markdown",
   "metadata": {},
   "source": [
    "3. 依存関係のインストール後、カーネルを再起動してください"
   ]
  },
  {
   "cell_type": "code",
   "execution_count": null,
   "metadata": {},
   "outputs": [],
   "source": [
    "# カーネルを再起動\n",
    "from IPython.core.display import HTML\n",
    "HTML(\"<script>Jupyter.notebook.kernel.restart()</script>\")"
   ]
  },
  {
   "cell_type": "markdown",
   "metadata": {},
   "source": [
    "---\n",
    "\n",
    "## 使用上の注意とヒント 💡\n",
    "\n",
    "- このコースではtemperature 0に設定したClaude 3 Haikuを使用します。temperatureについては後ほどコースで詳しく説明します。現時点では、この設定がより決定論的な結果を生み出すことを理解しておけば十分です。このコースで紹介するすべてのプロンプトエンジニアリング技法は、Claude 2やClaude Instant 1.2などの以前の世代のレガシーClaudeモデルにも適用できます。\n",
    "\n",
    "- セルを実行して次のセルに移動するには、`Shift + Enter`を使用できます。\n",
    "\n",
    "- チュートリアルページの最後に到達したら、フォルダ内の次の番号のファイル、またはそのチャプターファイル内のコンテンツが終了した場合は次の番号のフォルダに移動してください。\n",
    "\n",
    "### Anthropic SDKとMessages API\n",
    "このチュートリアルでは、[Anthropic Python SDK](https://docs.anthropic.com/claude/reference/claude-on-amazon-bedrock)と[Messages API](https://docs.anthropic.com/claude/reference/messages_post)を使用します。\n",
    "\n",
    "以下は、このチュートリアルでプロンプトを実行する際の例です。"
   ]
  },
  {
   "cell_type": "markdown",
   "metadata": {},
   "source": [
    "まず、モデル名とリージョンを設定して保存します。"
   ]
  },
  {
   "cell_type": "code",
   "execution_count": null,
   "metadata": {},
   "outputs": [],
   "source": [
    "import boto3\n",
    "session = boto3.Session() # boto3セッションを作成してリージョン名を動的に取得・設定\n",
    "AWS_REGION = session.region_name\n",
    "print(\"AWS Region:\", AWS_REGION)\n",
    "MODEL_NAME = \"anthropic.claude-3-haiku-20240307-v1:0\"\n",
    "\n",
    "%store MODEL_NAME\n",
    "%store AWS_REGION"
   ]
  },
  {
   "cell_type": "markdown",
   "metadata": {},
   "source": [
    "次に、`get_completion`を作成します。これはClaudeにプロンプトを送信し、Claudeが生成した応答を返すヘルパー関数です。このセルを今すぐ実行してください。"
   ]
  },
  {
   "cell_type": "code",
   "execution_count": null,
   "metadata": {},
   "outputs": [],
   "source": [
    "from anthropic import AnthropicBedrock\n",
    "\n",
    "client = AnthropicBedrock(aws_region=AWS_REGION)\n",
    "\n",
    "def get_completion(prompt, system=''):\n",
    "    message = client.messages.create(\n",
    "        model=MODEL_NAME,\n",
    "        max_tokens=2000,\n",
    "        temperature=0.0,\n",
    "        messages=[\n",
    "          {\"role\": \"user\", \"content\": prompt}\n",
    "        ],\n",
    "        system=system\n",
    "    )\n",
    "    return message.content[0].text"
   ]
  },
  {
   "cell_type": "markdown",
   "metadata": {},
   "source": [
    "ここで、Claudeへのサンプルプロンプトを作成し、`get_completion`ヘルパー関数を実行してClaudeの出力を表示します。以下のセルを実行すると、その下にClaudeからの応答が表示されます。\n",
    "\n",
    "プロンプト文字列を自由に変更して、Claudeから異なる応答を引き出すことができます。"
   ]
  },
  {
   "cell_type": "code",
   "execution_count": null,
   "metadata": {},
   "outputs": [],
   "source": [
    "# プロンプト\n",
    "prompt = \"こんにちは、Claude!\"\n",
    "\n",
    "# Claudeの応答を取得\n",
    "print(get_completion(prompt))"
   ]
  },
  {
   "cell_type": "markdown",
   "metadata": {},
   "source": [
    "先ほど定義した`MODEL_NAME`と`AWS_REGION`変数は、チュートリアル全体で使用されます。各チュートリアルページのセルを上から下に順番に実行するようにしてください。"
   ]
  }
 ],
 "metadata": {
  "kernelspec": {
   "display_name": "py310",
   "language": "python",
   "name": "python3"
  },
  "language_info": {
   "codemirror_mode": {
    "name": "ipython",
    "version": 3
   },
   "file_extension": ".py",
   "mimetype": "text/x-python",
   "name": "python",
   "nbconvert_exporter": "python",
   "pygments_lexer": "ipython3",
   "version": "3.11.5"
  }
 },
 "nbformat": 4,
 "nbformat_minor": 2
}