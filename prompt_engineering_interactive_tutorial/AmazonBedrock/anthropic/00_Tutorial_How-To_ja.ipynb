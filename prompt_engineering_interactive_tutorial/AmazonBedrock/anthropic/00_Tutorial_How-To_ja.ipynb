{
 "cells": [
  {
   "cell_type": "markdown",
   "metadata": {},
   "source": [
    "# チュートリアルの進め方\n",
    "\n",
    "このワークショップで利用するすべてのノートブックで必要となる要件と環境変数を設定するため、最初にこのノートブックを実行する必要があります。"
   ]
  },
  {
   "cell_type": "markdown",
   "metadata": {},
   "source": [
    "## はじめに\n",
    "\n",
    "1. このリポジトリをローカルマシンにクローンします。\n",
    "\n",
    "2. 以下のコマンドを実行して必要な依存パッケージをインストールします：\n",
    " "
   ]
  },
  {
   "cell_type": "code",
   "execution_count": 2,
   "metadata": {},
   "outputs": [
    {
     "name": "stdout",
     "output_type": "stream",
     "text": [
      "Note: you may need to restart the kernel to use updated packages.\n",
      "Note: you may need to restart the kernel to use updated packages.\n"
     ]
    }
   ],
   "source": [
    "%pip install -qU pip\n",
    "%pip install -qr ../requirements.txt"
   ]
  },
  {
   "cell_type": "markdown",
   "metadata": {},
   "source": [
    "3. 依存パッケージのインストール後、カーネルを再起動します。"
   ]
  },
  {
   "cell_type": "code",
   "execution_count": null,
   "metadata": {},
   "outputs": [],
   "source": [
    "# カーネルの再起動\n",
    "from IPython.core.display import HTML\n",
    "HTML(\"<script>Jupyter.notebook.kernel.restart()</script>\")"
   ]
  },
  {
   "cell_type": "markdown",
   "metadata": {},
   "source": [
    "---\n",
    "\n",
    "## 使用上の注意とヒント 💡\n",
    "\n",
    "- このコースではClaude 3 Haikuモデルを使用し、temperatureパラメータを0に設定しています。temperatureについては後のレッスンで詳しく説明しますが、現時点では、この設定により一貫性のある結果が得られることを理解しておけば十分です。なお、このコースで学ぶプロンプトエンジニアリング技法は、Claude 2やClaude Instant 1.2などの以前のバージョンのClaudeモデルにも適用可能です。\n",
    "\n",
    "- セルを実行して次のセルに移動するには、`Shift + Enter`キーを使用します。\n",
    "\n",
    "- チュートリアルページの最後まで到達したら、フォルダ内の次の番号のファイルに進むか、現在のチャプターの内容が完了している場合は次の番号のフォルダに進みます。\n",
    "\n",
    "### Anthropic SDKとMessages API\n",
    "このチュートリアルでは、[Anthropic Python SDK](https://docs.anthropic.com/claude/reference/claude-on-amazon-bedrock)と[Messages API](https://docs.anthropic.com/claude/reference/messages_post)を使用します。\n",
    "\n",
    "以下では、このチュートリアルでClaudeにプロンプトを送信する際の実例を示します。"
   ]
  },
  {
   "cell_type": "markdown",
   "metadata": {},
   "source": [
    "まず、使用するモデル名とAWSリージョンを設定し、保存します。"
   ]
  },
  {
   "cell_type": "code",
   "execution_count": null,
   "metadata": {},
   "outputs": [],
   "source": [
    "import boto3\n",
    "session = boto3.Session() # boto3セッションを作成してリージョン名を動的に取得\n",
    "AWS_REGION = session.region_name\n",
    "print(\"AWS Region:\", AWS_REGION)\n",
    "MODEL_NAME = \"anthropic.claude-3-haiku-20240307-v1:0\"\n",
    "\n",
    "%store MODEL_NAME\n",
    "%store AWS_REGION"
   ]
  },
  {
   "cell_type": "markdown",
   "metadata": {},
   "source": [
    "次に、`get_completion`関数を定義します。この関数は、与えられたプロンプトをClaudeに送信し、生成された応答を返すヘルパー関数です。以下のセルを実行してください。"
   ]
  },
  {
   "cell_type": "code",
   "execution_count": null,
   "metadata": {},
   "outputs": [],
   "source": [
    "from anthropic import AnthropicBedrock\n",
    "\n",
    "client = AnthropicBedrock(aws_region=AWS_REGION)\n",
    "\n",
    "def get_completion(prompt, system=''):\n",
    "    message = client.messages.create(\n",
    "        model=MODEL_NAME,\n",
    "        max_tokens=2000,\n",
    "        temperature=0.0,\n",
    "        messages=[\n",
    "          {\"role\": \"user\", \"content\": prompt}\n",
    "        ],\n",
    "        system=system\n",
    "    )\n",
    "    return message.content[0].text"
   ]
  },
  {
   "cell_type": "markdown",
   "metadata": {},
   "source": [
    "では、実際にClaudeに対してサンプルのプロンプトを送信し、`get_completion`関数を使って応答を取得してみましょう。以下のセルを実行すると、その下にClaudeからの応答が表示されます。\n",
    "\n",
    "プロンプトの内容を自由に変更して、様々な応答を試してみることができます。"
   ]
  },
  {
   "cell_type": "code",
   "execution_count": null,
   "metadata": {},
   "outputs": [],
   "source": [
    "# サンプルプロンプト\n",
    "prompt = \"こんにちは、Claude!\"\n",
    "\n",
    "# Claudeからの応答を取得\n",
    "print(get_completion(prompt))"
   ]
  },
  {
   "cell_type": "markdown",
   "metadata": {},
   "source": [
    "上記で設定した`MODEL_NAME`と`AWS_REGION`変数は、このチュートリアル全体で使用されます。各チュートリアルページでは、必ずセルを上から順に実行するようにしてください。"
   ]
  }
 ],
 "metadata": {
  "kernelspec": {
   "display_name": "py310",
   "language": "python",
   "name": "python3"
  },
  "language_info": {
   "codemirror_mode": {
    "name": "ipython",
    "version": 3
   },
   "file_extension": ".py",
   "mimetype": "text/x-python",
   "name": "python",
   "nbconvert_exporter": "python",
   "pygments_lexer": "ipython3",
   "version": "3.11.5"
  }
 },
 "nbformat": 4,
 "nbformat_minor": 2
}